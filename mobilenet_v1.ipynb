{
  "nbformat": 4,
  "nbformat_minor": 0,
  "metadata": {
    "colab": {
      "name": "mobilenet_v1.ipynb",
      "provenance": [],
      "collapsed_sections": [
        "uzW96TwCepfS",
        "1rZCr8sfe6PI"
      ],
      "toc_visible": true,
      "authorship_tag": "ABX9TyOaANO98SvSDDGPMyO3kLzq",
      "include_colab_link": true
    },
    "kernelspec": {
      "name": "python3",
      "display_name": "Python 3"
    }
  },
  "cells": [
    {
      "cell_type": "markdown",
      "metadata": {
        "id": "view-in-github",
        "colab_type": "text"
      },
      "source": [
        "<a href=\"https://colab.research.google.com/github/CamilleGreen5/Deep_Learning/blob/master/mobilenet_v1.ipynb\" target=\"_parent\"><img src=\"https://colab.research.google.com/assets/colab-badge.svg\" alt=\"Open In Colab\"/></a>"
      ]
    },
    {
      "cell_type": "code",
      "metadata": {
        "id": "b4l98xuCMTNw"
      },
      "source": [
        "import tensorflow as tf\n",
        "import numpy as np\n",
        "import time\n",
        "import glob\n",
        "import os\n",
        "import datetime\n",
        "import pandas as pd"
      ],
      "execution_count": null,
      "outputs": []
    },
    {
      "cell_type": "markdown",
      "metadata": {
        "id": "uzW96TwCepfS"
      },
      "source": [
        "## Download Data"
      ]
    },
    {
      "cell_type": "code",
      "metadata": {
        "id": "2tqffCITZkYo"
      },
      "source": [
        "# !wget http://www.image-net.org/challenges/LSVRC/2012/dd31405981ef5f776aa17412e1f0c112/ILSVRC2012_img_val.tar\n",
        "# !wget https://storage.googleapis.com/download.tensorflow.org/data/ImageNetLabels.txt"
      ],
      "execution_count": null,
      "outputs": []
    },
    {
      "cell_type": "code",
      "metadata": {
        "id": "UrGqXjv0Zpao"
      },
      "source": [
        "# !rm -r sample_data\n",
        "# !mkdir ./imagenet\n",
        "# !mkdir ./imagenet/train\n",
        "# !mkdir ./imagenet/val\n",
        "# !tar xf ILSVRC2012_img_val.tar -C ./imagenet/"
      ],
      "execution_count": null,
      "outputs": []
    },
    {
      "cell_type": "code",
      "metadata": {
        "id": "hEqFDXavp-1h",
        "outputId": "e05193f8-8416-4762-a054-fa1278a7536e",
        "colab": {
          "base_uri": "https://localhost:8080/"
        }
      },
      "source": [
        "list_image = glob.glob(\"./imagenet/ILSVRC2012_val_*\")\n",
        "list_train_image = list_image[:35000]\n",
        "list_val_image = list_image[35000:]\n",
        "name_root = './imagenet/'\n",
        "for image in list_train_image:\n",
        "  name_image = image[11:]\n",
        "  path = name_root + 'train/' + name_image\n",
        "  os.rename(image, path)\n",
        "for image in list_val_image:\n",
        "  name_image = image[11:]\n",
        "  path = name_root + 'val/' + name_image\n",
        "  os.rename(image, path)\n",
        "\n",
        "list_train_image = glob.glob(\"./imagenet/train/*\")\n",
        "list_val_image = glob.glob(\"./imagenet/val/*\")\n",
        "print(len(list_train_image))\n",
        "print(len(list_val_image))"
      ],
      "execution_count": null,
      "outputs": [
        {
          "output_type": "stream",
          "text": [
            "35000\n",
            "15000\n"
          ],
          "name": "stdout"
        }
      ]
    },
    {
      "cell_type": "code",
      "metadata": {
        "id": "2T--LLgUfnqU",
        "outputId": "7f4a46e7-9dee-4d79-f7a9-279582f0cbc2",
        "colab": {
          "base_uri": "https://localhost:8080/"
        }
      },
      "source": [
        "list_label_train = []\n",
        "list_label_val = []\n",
        "f = open(\"imagenet_val_labels.txt\", \"r\")\n",
        "k=0\n",
        "\n",
        "for line in f:\n",
        "  if k < 35000:\n",
        "    # label = int(line[0:-1])\n",
        "    label = line[0:-1]\n",
        "    list_label_train.append(label)\n",
        "    k+=1\n",
        "  elif 35000 <= k < 50000:\n",
        "    # label = int(line[0:-1])\n",
        "    label = line[0:-1]\n",
        "    list_label_val.append(label)\n",
        "    k+=1\n",
        "f.close()\n",
        "\n",
        "print(len(list_label_train))\n",
        "print(len(list_label_val))\n",
        "\n",
        "# array_label_val = np.zeros((len(list_label_val), 1001))\n",
        "# array_label_train = np.zeros((len(list_label_train), 1001))\n",
        "# for i, label in enumerate(list_label_val):\n",
        "#   array_label_val[i, label] = 1\n",
        "# for i, label in enumerate(list_label_train):\n",
        "#   array_label_train[i, label] = 1\n",
        "\n",
        "# print(array_label_train.shape)\n",
        "# print(array_label_val.shape)"
      ],
      "execution_count": null,
      "outputs": [
        {
          "output_type": "stream",
          "text": [
            "35000\n",
            "15000\n"
          ],
          "name": "stdout"
        }
      ]
    },
    {
      "cell_type": "code",
      "metadata": {
        "id": "4vUDzSpm0dV_",
        "outputId": "2fed3b36-f41a-4885-9d85-f86401ae823c",
        "colab": {
          "base_uri": "https://localhost:8080/",
          "height": 423
        }
      },
      "source": [
        "list_train_image = np.sort(list_train_image)\n",
        "list_val_image = np.sort(list_val_image)\n",
        "\n",
        "train_dataset  = np.stack((list_train_image, list_label_train), axis=1)\n",
        "val_dataset  = np.stack((list_val_image, list_label_val), axis=1)\n",
        "\n",
        "train_dataset = pd.DataFrame(train_dataset, columns = ['path', 'label'])\n",
        "val_dataset = pd.DataFrame(val_dataset, columns = ['path', 'label'])\n",
        "\n",
        "train_dataset"
      ],
      "execution_count": null,
      "outputs": [
        {
          "output_type": "execute_result",
          "data": {
            "text/html": [
              "<div>\n",
              "<style scoped>\n",
              "    .dataframe tbody tr th:only-of-type {\n",
              "        vertical-align: middle;\n",
              "    }\n",
              "\n",
              "    .dataframe tbody tr th {\n",
              "        vertical-align: top;\n",
              "    }\n",
              "\n",
              "    .dataframe thead th {\n",
              "        text-align: right;\n",
              "    }\n",
              "</style>\n",
              "<table border=\"1\" class=\"dataframe\">\n",
              "  <thead>\n",
              "    <tr style=\"text-align: right;\">\n",
              "      <th></th>\n",
              "      <th>path</th>\n",
              "      <th>label</th>\n",
              "    </tr>\n",
              "  </thead>\n",
              "  <tbody>\n",
              "    <tr>\n",
              "      <th>0</th>\n",
              "      <td>./imagenet/train/ILSVRC2012_val_00000001.JPEG</td>\n",
              "      <td>490</td>\n",
              "    </tr>\n",
              "    <tr>\n",
              "      <th>1</th>\n",
              "      <td>./imagenet/train/ILSVRC2012_val_00000003.JPEG</td>\n",
              "      <td>361</td>\n",
              "    </tr>\n",
              "    <tr>\n",
              "      <th>2</th>\n",
              "      <td>./imagenet/train/ILSVRC2012_val_00000005.JPEG</td>\n",
              "      <td>171</td>\n",
              "    </tr>\n",
              "    <tr>\n",
              "      <th>3</th>\n",
              "      <td>./imagenet/train/ILSVRC2012_val_00000007.JPEG</td>\n",
              "      <td>822</td>\n",
              "    </tr>\n",
              "    <tr>\n",
              "      <th>4</th>\n",
              "      <td>./imagenet/train/ILSVRC2012_val_00000010.JPEG</td>\n",
              "      <td>297</td>\n",
              "    </tr>\n",
              "    <tr>\n",
              "      <th>...</th>\n",
              "      <td>...</td>\n",
              "      <td>...</td>\n",
              "    </tr>\n",
              "    <tr>\n",
              "      <th>34995</th>\n",
              "      <td>./imagenet/train/ILSVRC2012_val_00049995.JPEG</td>\n",
              "      <td>67</td>\n",
              "    </tr>\n",
              "    <tr>\n",
              "      <th>34996</th>\n",
              "      <td>./imagenet/train/ILSVRC2012_val_00049997.JPEG</td>\n",
              "      <td>184</td>\n",
              "    </tr>\n",
              "    <tr>\n",
              "      <th>34997</th>\n",
              "      <td>./imagenet/train/ILSVRC2012_val_00049998.JPEG</td>\n",
              "      <td>454</td>\n",
              "    </tr>\n",
              "    <tr>\n",
              "      <th>34998</th>\n",
              "      <td>./imagenet/train/ILSVRC2012_val_00049999.JPEG</td>\n",
              "      <td>879</td>\n",
              "    </tr>\n",
              "    <tr>\n",
              "      <th>34999</th>\n",
              "      <td>./imagenet/train/ILSVRC2012_val_00050000.JPEG</td>\n",
              "      <td>312</td>\n",
              "    </tr>\n",
              "  </tbody>\n",
              "</table>\n",
              "<p>35000 rows × 2 columns</p>\n",
              "</div>"
            ],
            "text/plain": [
              "                                                path label\n",
              "0      ./imagenet/train/ILSVRC2012_val_00000001.JPEG   490\n",
              "1      ./imagenet/train/ILSVRC2012_val_00000003.JPEG   361\n",
              "2      ./imagenet/train/ILSVRC2012_val_00000005.JPEG   171\n",
              "3      ./imagenet/train/ILSVRC2012_val_00000007.JPEG   822\n",
              "4      ./imagenet/train/ILSVRC2012_val_00000010.JPEG   297\n",
              "...                                              ...   ...\n",
              "34995  ./imagenet/train/ILSVRC2012_val_00049995.JPEG    67\n",
              "34996  ./imagenet/train/ILSVRC2012_val_00049997.JPEG   184\n",
              "34997  ./imagenet/train/ILSVRC2012_val_00049998.JPEG   454\n",
              "34998  ./imagenet/train/ILSVRC2012_val_00049999.JPEG   879\n",
              "34999  ./imagenet/train/ILSVRC2012_val_00050000.JPEG   312\n",
              "\n",
              "[35000 rows x 2 columns]"
            ]
          },
          "metadata": {
            "tags": []
          },
          "execution_count": 134
        }
      ]
    },
    {
      "cell_type": "markdown",
      "metadata": {
        "id": "SSU7Bjxpex2a"
      },
      "source": [
        "## Model"
      ]
    },
    {
      "cell_type": "code",
      "metadata": {
        "id": "0KL-xE_SbcKn"
      },
      "source": [
        "%reload_ext tensorboard"
      ],
      "execution_count": null,
      "outputs": []
    },
    {
      "cell_type": "code",
      "metadata": {
        "id": "RMDUI12xMiL5"
      },
      "source": [
        "class MobilenetLayer(tf.keras.Model):\n",
        "\n",
        "  def __init__(self, input_shape, filters, strides):\n",
        "    \n",
        "    super(MobilenetLayer, self).__init__()\n",
        "    \n",
        "    self.InputShape = input_shape\n",
        "    self.Filters = filters\n",
        "    self.Strides = strides\n",
        "\n",
        "    self.inputs = tf.keras.layers.InputLayer(self.InputShape)\n",
        "    self.depthconv = tf.keras.layers.DepthwiseConv2D((3, 3), strides=self.Strides, padding='same', depth_multiplier=1)\n",
        "    self.bn1 = tf.keras.layers.BatchNormalization()\n",
        "    self.activation = tf.keras.layers.Activation('relu')\n",
        "    self.pointconv = tf.keras.layers.Conv2D(self.Filters, (1, 1), padding='same')\n",
        "    self.bn2 = tf.keras.layers.BatchNormalization()\n",
        "    self.outputs = tf.keras.layers.Activation('relu')\n",
        "  \n",
        "  def init_weights():\n",
        "    official_model = tf.keras.applications.MobileNet((224, 224, 3))\n",
        "\n",
        "\n",
        "  def call(self, input):\n",
        "    x = self.inputs(input)\n",
        "    x = self.depthconv(x)\n",
        "    x = self.bn1(x)\n",
        "    x = self.activation(x)\n",
        "    x = self.pointconv(x)\n",
        "    x = self.bn2(x)\n",
        "    return self.outputs(x)"
      ],
      "execution_count": null,
      "outputs": []
    },
    {
      "cell_type": "code",
      "metadata": {
        "id": "MZIxfwN5Toqx"
      },
      "source": [
        "# name / filters / strides / input_shape / output_shape\n",
        "arch = np.array([\n",
        "  ['MobilenetLayer0', 64, np.array([1,1]), np.array([112,112,32])],\n",
        "  ['MobilenetLayer1', 128, np.array([2,2]), np.array([112,112,64])],\n",
        "  ['MobilenetLayer2', 128, np.array([1,1]), np.array([56,56,128])],\n",
        "  ['MobilenetLayer3', 256, np.array([2,2]), np.array([56,56,128])],\n",
        "  ['MobilenetLayer4', 256, np.array([1,1]), np.array([28,28,256])],\n",
        "  ['MobilenetLayer5', 512, np.array([2,2]), np.array([28,28,256])],\n",
        "  ['MobilenetLayer6', 512, np.array([1,1]), np.array([14,14,512])],\n",
        "  ['MobilenetLayer7', 1024, np.array([2,2]), np.array([14,14,512])],\n",
        "  ['MobilenetLayer8', 1024, np.array([1,1]), np.array([7,7,1024])]\n",
        "])\n"
      ],
      "execution_count": null,
      "outputs": []
    },
    {
      "cell_type": "code",
      "metadata": {
        "id": "wwAGhdUUTTf7"
      },
      "source": [
        "class Mobilenet(tf.keras.Model):\n",
        "\n",
        "  def __init__(self, arch, input_shape):\n",
        "    \n",
        "    super(Mobilenet, self).__init__()\n",
        "\n",
        "    self.InputShape = input_shape\n",
        "\n",
        "    self.inputs = tf.keras.layers.InputLayer(self.InputShape)\n",
        "    self.conv2d = tf.keras.layers.Conv2D(32, (3, 3), padding='same', strides=(2, 2))\n",
        "    self.bn1 = tf.keras.layers.BatchNormalization()\n",
        "    self.activation = tf.keras.layers.Activation('relu')\n",
        "\n",
        "    self.MobilenetLayer0 = MobilenetLayer(arch[0, 3], arch[0, 1], arch[0, 2])\n",
        "    self.MobilenetLayer1 = MobilenetLayer(arch[1, 3], arch[1, 1], arch[1, 2])\n",
        "    self.MobilenetLayer2 = MobilenetLayer(arch[2, 3], arch[2, 1], arch[2, 2])\n",
        "    self.MobilenetLayer3 = MobilenetLayer(arch[3, 3], arch[3, 1], arch[3, 2])\n",
        "    self.MobilenetLayer4 = MobilenetLayer(arch[4, 3], arch[4, 1], arch[4, 2])\n",
        "    self.MobilenetLayer5 = MobilenetLayer(arch[5, 3], arch[5, 1], arch[5, 2])\n",
        "    self.MobilenetLayer61 = MobilenetLayer(arch[6, 3], arch[6, 1], arch[6, 2])\n",
        "    self.MobilenetLayer62 = MobilenetLayer(arch[6, 3], arch[6, 1], arch[6, 2])\n",
        "    self.MobilenetLayer63 = MobilenetLayer(arch[6, 3], arch[6, 1], arch[6, 2])\n",
        "    self.MobilenetLayer64 = MobilenetLayer(arch[6, 3], arch[6, 1], arch[6, 2])\n",
        "    self.MobilenetLayer65 = MobilenetLayer(arch[6, 3], arch[6, 1], arch[6, 2])\n",
        "    self.MobilenetLayer66 = MobilenetLayer(arch[6, 3], arch[6, 1], arch[6, 2])\n",
        "    self.MobilenetLayer7 = MobilenetLayer(arch[7, 3], arch[7, 1], arch[7, 2])\n",
        "    self.MobilenetLayer8 = MobilenetLayer(arch[8, 3], arch[8, 1], arch[8, 2])\n",
        "\n",
        "    self.Pool = tf.keras.layers.AveragePooling2D(pool_size=(7, 7))\n",
        "    self.Dense = tf.keras.layers.Dense(1000)\n",
        "    self.Soft = tf.keras.layers.Activation('softmax')\n",
        "    self.Shape = tf.keras.layers.Reshape((1000,))\n",
        "\n",
        "  \n",
        "  def call(self, input):\n",
        "    x = self.inputs(input)\n",
        "    x = self.conv2d(x)\n",
        "    x = self.bn1(x)\n",
        "    x = self.activation(x)\n",
        "    x = self.MobilenetLayer0(x)\n",
        "    x = self.MobilenetLayer1(x)\n",
        "    x = self.MobilenetLayer2(x)\n",
        "    x = self.MobilenetLayer3(x)\n",
        "    x = self.MobilenetLayer4(x)\n",
        "    x = self.MobilenetLayer5(x)\n",
        "    x = self.MobilenetLayer61(x)\n",
        "    x = self.MobilenetLayer62(x)\n",
        "    x = self.MobilenetLayer63(x)\n",
        "    x = self.MobilenetLayer64(x)\n",
        "    x = self.MobilenetLayer65(x)\n",
        "    x = self.MobilenetLayer66(x)\n",
        "    x = self.MobilenetLayer7(x)\n",
        "    x = self.MobilenetLayer8(x)\n",
        "    x = self.Pool(x)\n",
        "    x = self.Dense(x)\n",
        "    x = self.Soft(x)\n",
        "    x = self.Shape(x)\n",
        "    return x"
      ],
      "execution_count": null,
      "outputs": []
    },
    {
      "cell_type": "code",
      "metadata": {
        "id": "fTGQkhMmSP2y",
        "outputId": "ce9ec699-5453-4670-b542-33d98160a3fb",
        "colab": {
          "base_uri": "https://localhost:8080/"
        }
      },
      "source": [
        "input_shape = [224, 224, 3]\n",
        "\n",
        "print(\"\\nCREATE MODEL\")\n",
        "model = Mobilenet(arch, input_shape)\n",
        "\n",
        "im = np.zeros((224, 224, 3), np.float32)\n",
        "im = np.expand_dims(im, axis=0)\n",
        "print('shape input image', im.shape)\n",
        "\n",
        "print(\"\\nCOMPUTE PRED\")\n",
        "t0 = time.time()\n",
        "pred = model(im)\n",
        "t1 = time.time()\n",
        "\n",
        "print(\"time compute\", t1-t0)\n",
        "print('output shape', pred.shape)\n",
        "\n",
        "model.summary()"
      ],
      "execution_count": null,
      "outputs": [
        {
          "output_type": "stream",
          "text": [
            "\n",
            "CREATE MODEL\n",
            "shape input image (1, 224, 224, 3)\n",
            "\n",
            "COMPUTE PRED\n",
            "time compute 0.6196391582489014\n",
            "output shape (1, 1000)\n",
            "Model: \"mobilenet\"\n",
            "_________________________________________________________________\n",
            "Layer (type)                 Output Shape              Param #   \n",
            "=================================================================\n",
            "input_1 (InputLayer)         [(None, 224, 224, 3)]     0         \n",
            "_________________________________________________________________\n",
            "conv2d (Conv2D)              multiple                  896       \n",
            "_________________________________________________________________\n",
            "batch_normalization (BatchNo multiple                  128       \n",
            "_________________________________________________________________\n",
            "activation (Activation)      multiple                  0         \n",
            "_________________________________________________________________\n",
            "mobilenet_layer (MobilenetLa multiple                  2816      \n",
            "_________________________________________________________________\n",
            "mobilenet_layer_1 (Mobilenet multiple                  9728      \n",
            "_________________________________________________________________\n",
            "mobilenet_layer_2 (Mobilenet multiple                  18816     \n",
            "_________________________________________________________________\n",
            "mobilenet_layer_3 (Mobilenet multiple                  35840     \n",
            "_________________________________________________________________\n",
            "mobilenet_layer_4 (Mobilenet multiple                  70400     \n",
            "_________________________________________________________________\n",
            "mobilenet_layer_5 (Mobilenet multiple                  137216    \n",
            "_________________________________________________________________\n",
            "mobilenet_layer_6 (Mobilenet multiple                  271872    \n",
            "_________________________________________________________________\n",
            "mobilenet_layer_7 (Mobilenet multiple                  271872    \n",
            "_________________________________________________________________\n",
            "mobilenet_layer_8 (Mobilenet multiple                  271872    \n",
            "_________________________________________________________________\n",
            "mobilenet_layer_9 (Mobilenet multiple                  271872    \n",
            "_________________________________________________________________\n",
            "mobilenet_layer_10 (Mobilene multiple                  271872    \n",
            "_________________________________________________________________\n",
            "mobilenet_layer_11 (Mobilene multiple                  271872    \n",
            "_________________________________________________________________\n",
            "mobilenet_layer_12 (Mobilene multiple                  536576    \n",
            "_________________________________________________________________\n",
            "mobilenet_layer_13 (Mobilene multiple                  1068032   \n",
            "_________________________________________________________________\n",
            "average_pooling2d (AveragePo multiple                  0         \n",
            "_________________________________________________________________\n",
            "dense (Dense)                multiple                  1025000   \n",
            "_________________________________________________________________\n",
            "activation_29 (Activation)   multiple                  0         \n",
            "_________________________________________________________________\n",
            "reshape (Reshape)            multiple                  0         \n",
            "=================================================================\n",
            "Total params: 4,536,680\n",
            "Trainable params: 4,512,744\n",
            "Non-trainable params: 23,936\n",
            "_________________________________________________________________\n"
          ],
          "name": "stdout"
        }
      ]
    },
    {
      "cell_type": "code",
      "metadata": {
        "id": "iGj3O3qu6zmA"
      },
      "source": [
        "model.compile(optimizer='rmsprop', loss='categorical_crossentropy', metrics='accuracy')"
      ],
      "execution_count": null,
      "outputs": []
    },
    {
      "cell_type": "markdown",
      "metadata": {
        "id": "1rZCr8sfe6PI"
      },
      "source": [
        "## Training"
      ]
    },
    {
      "cell_type": "code",
      "metadata": {
        "id": "YUmnz8BNp0DE"
      },
      "source": [
        "def data_generator(mode='train'):\n",
        "\n",
        "    img_gen = tf.keras.preprocessing.image.ImageDataGenerator()\n",
        "\n",
        "    if mode == 'train':\n",
        "        samples_and_labels = img_gen.flow_from_dataframe(train_dataset, None, x_col='path', y_col='label', target_size=(224, 224), batch_size=10, color_mode='rgb', class_mode='categorical')\n",
        "    elif mode == 'val':\n",
        "        samples_and_labels = img_gen.flow_from_dataframe(val_dataset, None, x_col='path', y_col='label', target_size=(224, 224), batch_size=10, color_mode='rgb', class_mode='categorical')\n",
        "    else:\n",
        "        print(\"chose a mode\")\n",
        "\n",
        "    for sample, label in samples_and_labels:\n",
        "        yield(sample, label)\n",
        "        \n",
        "def create_train_generator():\n",
        "    gen = data_generator('train')\n",
        "    return gen\n",
        "        \n",
        "def create_val_generator():\n",
        "    gen = data_generator('val')\n",
        "    return gen"
      ],
      "execution_count": null,
      "outputs": []
    },
    {
      "cell_type": "code",
      "metadata": {
        "id": "7YOvDupqayXl"
      },
      "source": [
        "log_dir = \"logs/fit/\" + datetime.datetime.now().strftime(\"%Y%m%d-%H%M%S\")\n",
        "tensorboard_callback = tf.keras.callbacks.TensorBoard(log_dir=log_dir, histogram_freq=1)"
      ],
      "execution_count": null,
      "outputs": []
    },
    {
      "cell_type": "code",
      "metadata": {
        "id": "GWdmKI1AaerE"
      },
      "source": [
        "train_dataset_generator = tf.data.Dataset.from_generator(create_train_generator, output_types=(tf.float32, tf.float32), output_shapes=((None, 224, 224, 3), (None,1000)))\n",
        "validation_dataset_generator = tf.data.Dataset.from_generator(create_val_generator, output_types=(tf.float32, tf.float32), output_shapes=((None, 224, 224, 3), (None,1000)))\n",
        "\n",
        "\n",
        "model.fit(train_dataset_generator, epochs=10, shuffle=True, callbacks=[tensorboard_callback], \\\n",
        "          steps_per_epoch=2000, validation_data=validation_dataset_generator, validation_steps=1000, verbose=2)\n",
        "\n",
        "# model.save('./model/mymodel')\n",
        "# print('model saved')"
      ],
      "execution_count": null,
      "outputs": []
    },
    {
      "cell_type": "code",
      "metadata": {
        "id": "ICWLfIJh8Jej"
      },
      "source": [
        "gen = create_train_generator()\n",
        "k = 0\n",
        "for sample, label in gen:\n",
        "  print(label)\n",
        "  k += 1\n",
        "  if k == 1:\n",
        "    break"
      ],
      "execution_count": null,
      "outputs": []
    },
    {
      "cell_type": "markdown",
      "metadata": {
        "id": "2Z9AGjbQb36i"
      },
      "source": [
        "## Test"
      ]
    },
    {
      "cell_type": "code",
      "metadata": {
        "id": "7-RRgyW-b4I-",
        "outputId": "c9995c97-dd4c-4bc3-e59e-2ea596996072",
        "colab": {
          "base_uri": "https://localhost:8080/"
        }
      },
      "source": [
        "list_official_model_layers = []\n",
        "official_model = tf.keras.applications.MobileNet((224, 224, 3))\n",
        "for layer in official_model.layers:\n",
        "  list_official_model_layers.append(layer.name)\n",
        "print(len(list_official_model_layers))"
      ],
      "execution_count": null,
      "outputs": [
        {
          "output_type": "stream",
          "text": [
            "93\n"
          ],
          "name": "stdout"
        }
      ]
    },
    {
      "cell_type": "code",
      "metadata": {
        "id": "fetIG23icYjQ",
        "outputId": "a80fa1a2-8839-4853-fad1-e67f91a0680e",
        "colab": {
          "base_uri": "https://localhost:8080/"
        }
      },
      "source": [
        "input_shape = [224, 224, 3]\n",
        "\n",
        "print(\"\\nCREATE MODEL\")\n",
        "model = Mobilenet(arch, input_shape)\n",
        "\n",
        "im = np.zeros((224, 224, 3), np.float32)\n",
        "im = np.expand_dims(im, axis=0)\n",
        "print('shape input image', im.shape)\n",
        "\n",
        "print(\"\\nCOMPUTE PRED\")\n",
        "t0 = time.time()\n",
        "pred = model(im)\n",
        "t1 = time.time()\n",
        "\n",
        "print(\"time compute\", t1-t0)\n",
        "print('output shape', pred.shape, '\\n')\n",
        "\n",
        "list_model_layers = []\n",
        "\n",
        "for layer in model.layers:\n",
        "  if layer.name[:15] == 'mobilenet_layer':\n",
        "    for layer_in in layer.layers:\n",
        "      list_model_layers.append(layer_in.name)\n",
        "  else:\n",
        "    list_model_layers.append(layer.name)\n",
        "\n"
      ],
      "execution_count": null,
      "outputs": [
        {
          "output_type": "stream",
          "text": [
            "\n",
            "CREATE MODEL\n",
            "shape input image (1, 224, 224, 3)\n",
            "\n",
            "COMPUTE PRED\n",
            "time compute 0.2900967597961426\n",
            "output shape (1, 1000) \n",
            "\n"
          ],
          "name": "stdout"
        }
      ]
    },
    {
      "cell_type": "code",
      "metadata": {
        "id": "3ljM5gVLhQ8P"
      },
      "source": [
        "pd.set_option(\"display.max_rows\", None, \"display.max_columns\", None)\n",
        "pd_tab = []\n",
        "for i in range(min(len(list_model_layers), len(list_official_model_layers))):\n",
        "  pd_tab.append([list_model_layers[i], list_official_model_layers[i]])\n",
        "pd_dataframe = pd.DataFrame(pd_tab, columns = ['list_model_layers', 'list_official_model_layers'])\n",
        "pd_dataframe"
      ],
      "execution_count": null,
      "outputs": []
    }
  ]
}